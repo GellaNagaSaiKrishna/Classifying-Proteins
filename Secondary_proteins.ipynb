{
 "cells": [
  {
   "cell_type": "markdown",
   "id": "920e21f4-10c9-4121-9b19-428ed243e13d",
   "metadata": {},
   "source": [
    "Importing training data from kaggle https://www.kaggle.com/datasets/tamzidhasan/protein-secondary-structure-casp12-cb513-ts115?resource=download"
   ]
  },
  {
   "cell_type": "code",
   "execution_count": 63,
   "id": "93413b1b-0339-4185-885a-bc48bc0acf36",
   "metadata": {},
   "outputs": [],
   "source": [
    "import torch\n",
    "import numpy as np\n",
    "import torch.nn as nn\n",
    "import torch.nn.functional as F\n",
    "import pandas as pd\n",
    "import matplotlib.pyplot as plt\n",
    "from torch.utils.data import Dataset, DataLoader\n",
    "from sklearn.model_selection import train_test_split"
   ]
  },
  {
   "cell_type": "code",
   "execution_count": null,
   "id": "f6add3b0-fd77-45ee-b299-6bc529c4387a",
   "metadata": {},
   "outputs": [
    {
     "name": "stdout",
     "output_type": "stream",
     "text": [
      "Number of entries is 999\n"
     ]
    }
   ],
   "source": [
    "train_df = pd.read_csv('mini_training_data.csv')\n",
    "print(f'Number of entries is {len(train_df)}')"
   ]
  },
  {
   "cell_type": "code",
   "execution_count": null,
   "id": "8eebdd21-6c2e-4fe6-89ce-024d21c1c072",
   "metadata": {},
   "outputs": [
    {
     "name": "stdout",
     "output_type": "stream",
     "text": [
      "Number of entries is 513\n"
     ]
    }
   ],
   "source": [
    "test_df = pd.read_csv('testing_data.csv')\n",
    "print(f'Number of entries is {len(test_df)}')"
   ]
  },
  {
   "cell_type": "code",
   "execution_count": null,
   "id": "c206f389-50d1-4439-9b5f-fc79727c8b89",
   "metadata": {},
   "outputs": [
    {
     "name": "stdout",
     "output_type": "stream",
     "text": [
      "Number of entries is 2170\n"
     ]
    }
   ],
   "source": [
    "val_df = pd.read_csv('validation_data.csv')\n",
    "print(f'Number of entries is {len(val_df)}')"
   ]
  },
  {
   "cell_type": "code",
   "execution_count": 30,
   "id": "8137f7b5-588e-4d74-ba71-08a3d39ab949",
   "metadata": {},
   "outputs": [
    {
     "name": "stdout",
     "output_type": "stream",
     "text": [
      "Index(['seq', 'sst3', 'sst8'], dtype='object')\n"
     ]
    }
   ],
   "source": [
    "print(train.columns)"
   ]
  },
  {
   "cell_type": "markdown",
   "id": "e800a3a1-0a35-4880-b6dd-052215241d00",
   "metadata": {},
   "source": [
    "In the data imported from kaggle we have 3 columns first 'seq' which is input sequence 'sst3' where the output is classified into 3 categories - (α-helix [H], β-sheet [E], or coil [C]). In sst8 input is classified into 8 categories which is probably not related to this problem statement."
   ]
  },
  {
   "cell_type": "code",
   "execution_count": 31,
   "id": "b3e78dfc-47bf-419f-a203-ac57fc05ef7d",
   "metadata": {},
   "outputs": [
    {
     "name": "stdout",
     "output_type": "stream",
     "text": [
      "                                                 seq  \\\n",
      "0  AETVESCLAKSHTENSFTNVXKDDKTLDRYANYEGCLWNATGVVVC...   \n",
      "1  ASQEISKSIYTCNDNQVXEVIYVNTEAGNAYAIISQVNEXIPXRLX...   \n",
      "2  XGSSHHHHHHSSGRENLYFQGXNISEINGFEVTGFVVRTTNADEXN...   \n",
      "3  SNADYNRLSVPGNVIGKGGNAVVYEDAEDATKVLKMFTTSQSNEEV...   \n",
      "4  DTVGRPLPHLAAAMQASGEAVYCDDIPRYENELFLRLVTSTRAHAK...   \n",
      "\n",
      "                                                sst3  \\\n",
      "0  CCCHHHHHCCCCEEEEEECCEECCCCCCEEEEECCEEEEEEEEEEE...   \n",
      "1  CCCCEEEEEEEECCCEEEEEEEEECCCCCEEEEEEECCEEEEEEEE...   \n",
      "2  CCCCCCCCCCCCCCCCCEEEEEEEEEECCEEEEEEEEEECHHHHHC...   \n",
      "3  CCCCCCCCCCEEEEEEECCCEEEEEECCCCCEEEEEECCCCCHHHH...   \n",
      "4  CCCCCCCCCCCHHHHHCCCCCCHHHCCCCCCCEEEEEEECCCCCEE...   \n",
      "\n",
      "                                                sst8  \n",
      "0  CCCHHHHHTSCCEEEEEESCEECTTTCCEEEEETTEEEEEEEEEEE...  \n",
      "1  CCCCEEEEEEEETTTEEEEEEEEECTTSCEEEEEEETTEEEEEEEE...  \n",
      "2  CCCCCCCCCCCCCCCCCEEEEEEEEEECCEEEEEEEEEECHHHHHS...  \n",
      "3  CCCCCCCCCCEEEEEEECSSEEEEEETTCTTEEEEEESSCCCHHHH...  \n",
      "4  CCTTSCCCCTTHHHHHTTCSCCGGGSCCCTTCEEEEEEECSSSSEE...  \n",
      "Protein 1:\n",
      "Sequence : AETVESCLAKSHTENSFTNVXKDDKTLDRYANYEGCLWNATGVVVCTGDETQCYGTWVPIGLAIPENEGGGSEGGGSEGGGSEGGGTKPPEYGDTPIPGYTYINPLDGTYPPGTEQNPANPNPSLEESQPLNTFMFQNNRFRNRQGALTVYTGTVTQGTDPVKTYYQYTPVSSKAMYDAYWNGKFRDCAFHSGFNEDIFVCEYQGQSSDLPQPPVNA\n",
      "Structure: CCCHHHHHCCCCEEEEEECCEECCCCCCEEEEECCEEEEEEEEEEECCCCCEEEEEEEEEEECCCCCCCCCCCCCCCCCCCCCCCCCCCCCCCCCCEEEEECCCCCCCCCCECCCCECCCCCCEEECCCCCCCEEECCEEEEEECCEEEEEEEEEEECCCCCEEEEEEEECCCHHHHHHHHCCCCCCCCCCCCCCCCCEECCCCCCEEEECCCCCCC\n",
      "Length   : 217 == 217\n",
      "Protein 2:\n",
      "Sequence : ASQEISKSIYTCNDNQVXEVIYVNTEAGNAYAIISQVNEXIPXRLXKXASGANYEAIDKNYTYKLYTKGKTAELVEGDDKPVLSNCSLANLEHHHHHH\n",
      "Structure: CCCCEEEEEEEECCCEEEEEEEEECCCCCEEEEEEECCEEEEEEEEECCCCEEEEECCCCCCCEEEEECCEEEEEECCCEEEEEEEEECCCCCCCCCC\n",
      "Length   : 98 == 98\n",
      "Protein 3:\n",
      "Sequence : XGSSHHHHHHSSGRENLYFQGXNISEINGFEVTGFVVRTTNADEXNPXTAKIGNLWEKFYLNAAPKLTDKSKVYGLYTNYESDFTGAFDVIACSDTLSPQLLSESVKTKVSSGKYVTFSATGEXPQVVIDLWNEVWNYFASEHCPHKRAYTTDFEYYKSANTVEISIAVR\n",
      "Structure: CCCCCCCCCCCCCCCCCEEEEEEEEEECCEEEEEEEEEECHHHHHCCCCCCHHHHHHHHHHHCHHHCCCCCCEEEEEECCCCCCCCCEEEEEEECCCCCCCCCCCEEEEECCEEEEEEEEECCCCHHHHHHHHHHHHHHCCCCCCCCECCCEEEEECCCCCEEEEEEEEC\n",
      "Length   : 170 == 170\n"
     ]
    }
   ],
   "source": [
    "# Inspect first few rows\n",
    "print(train.head())\n",
    "# Extract sequences and labels\n",
    "sequences = train['seq'].tolist()\n",
    "labels = train['sst3'].tolist()\n",
    "# Check lengths\n",
    "for i in range(3):  # print a few examples\n",
    "    print(f\"Protein {i+1}:\")\n",
    "    print(\"Sequence :\", sequences[i])\n",
    "    print(\"Structure:\", labels[i])\n",
    "    print(\"Length   :\", len(sequences[i]), \"==\", len(labels[i]))"
   ]
  },
  {
   "cell_type": "code",
   "execution_count": 32,
   "id": "783a4c22-675a-4344-b122-a8618e1bcb5a",
   "metadata": {},
   "outputs": [
    {
     "name": "stdout",
     "output_type": "stream",
     "text": [
      "Number of different kind of amino acids is 20\n"
     ]
    }
   ],
   "source": [
    "#Assigning number to inputs\n",
    "AMINO_ACIDS = \"ACDEFGHIKLMNPQRSTVWY\"\n",
    "AA_TO_IDX = {aa: i for i, aa in enumerate(AMINO_ACIDS)}\n",
    "LABELS = {'H': 0, 'E': 1, 'C': 2}\n",
    "NUM_CLASSES = 3\n",
    "print(f\"Number of different kind of amino acids is {len(AA_TO_IDX)}\")"
   ]
  },
  {
   "cell_type": "markdown",
   "id": "fdaf341f-8d4a-4396-a946-bd12aeb8a8a2",
   "metadata": {},
   "source": [
    "As the secondary structure of the amino acid changes with the surrounding amino acids, we will be taking a batch size and train the model."
   ]
  },
  {
   "cell_type": "code",
   "execution_count": 46,
   "id": "a71dc0de-efae-4905-95c0-ea00ffd9e18b",
   "metadata": {},
   "outputs": [],
   "source": [
    "WINDOW_SIZE = 50 # For each amino acid we look 15//2 = 7 times on left and right\n",
    "PAD_CHAR = 'X'  # As X is not a amino acid we use it a dummy amnio acid when batch size is less than mentioned above.\n",
    "BATCH_SIZE = 32  # We update the parameters once every batch\n",
    "EPOCHS = 5  # Number of time we go through the entire dataset"
   ]
  },
  {
   "cell_type": "code",
   "execution_count": 47,
   "id": "a0d3e7e1-0173-4446-87f2-9149774898ee",
   "metadata": {},
   "outputs": [],
   "source": [
    "# Converting each amino acid's idenity as vector\n",
    "def one_hot(aa):\n",
    "    vec = [0] * 20\n",
    "    if aa in AA_TO_IDX:\n",
    "        vec[AA_TO_IDX[aa]] = 1\n",
    "    return vec"
   ]
  },
  {
   "cell_type": "code",
   "execution_count": 48,
   "id": "de2ea07c-d670-4e83-91fa-65d02cf23b36",
   "metadata": {},
   "outputs": [],
   "source": [
    "def pad_sequence(seq, pad_size):\n",
    "    return PAD_CHAR * pad_size + seq + PAD_CHAR * pad_size"
   ]
  },
  {
   "cell_type": "code",
   "execution_count": 49,
   "id": "78b63c17-71f9-46f9-a17b-cc73f67ad457",
   "metadata": {},
   "outputs": [
    {
     "data": {
      "text/plain": [
       "\"def encode_window(seq, i, window_size):\\n    half_window = window_size // 2\\n    left = max(0, i - half_window)          # Start of window (handles boundaries)\\n    right = min(len(seq), i + half_window + 1)  # End of window\\n    window = seq[left:right]                 # Extract centered window\\n    \\n    # Pad with 'X' if window is smaller than window_size (near sequence ends)\\n    pad_left = half_window - (i - left)      # Calculate left padding needed\\n    pad_right = half_window - (right - i - 1) # Calculate right padding needed\\n    window = (PAD_CHAR * pad_left) + window + (PAD_CHAR * pad_right)\\n    \\n    # Convert to one-hot and flatten\\n    return torch.tensor([one_hot(aa) for aa in window], dtype=torch.float).flatten()\""
      ]
     },
     "execution_count": 49,
     "metadata": {},
     "output_type": "execute_result"
    }
   ],
   "source": [
    "\"\"\"def encode_window(seq, i, window_size):\n",
    "    half_window = window_size // 2\n",
    "    left = max(0, i - half_window)          # Start of window (handles boundaries)\n",
    "    right = min(len(seq), i + half_window + 1)  # End of window\n",
    "    window = seq[left:right]                 # Extract centered window\n",
    "    \n",
    "    # Pad with 'X' if window is smaller than window_size (near sequence ends)\n",
    "    pad_left = half_window - (i - left)      # Calculate left padding needed\n",
    "    pad_right = half_window - (right - i - 1) # Calculate right padding needed\n",
    "    window = (PAD_CHAR * pad_left) + window + (PAD_CHAR * pad_right)\n",
    "    \n",
    "    # Convert to one-hot and flatten\n",
    "    return torch.tensor([one_hot(aa) for aa in window], dtype=torch.float).flatten()\"\"\""
   ]
  },
  {
   "cell_type": "code",
   "execution_count": 58,
   "id": "9596f64a-c42e-4cd4-b656-f69411476a9b",
   "metadata": {},
   "outputs": [],
   "source": [
    "def encode_window(seq, i, window_size):\n",
    "    window = seq[i:i+window_size]\n",
    "    return torch.tensor([one_hot(aa) for aa in window], dtype=torch.float).flatten()"
   ]
  },
  {
   "cell_type": "code",
   "execution_count": 51,
   "id": "21259d35-9e06-48ac-bfae-805dd47379a0",
   "metadata": {},
   "outputs": [],
   "source": [
    "class ProteinDataset(Dataset):\n",
    "    def __init__(self, dataframe):\n",
    "        self.samples = []\n",
    "        for _, row in dataframe.iterrows():\n",
    "            seq = row['seq']\n",
    "            sst = row['sst3']\n",
    "            padded_seq = pad_sequence(seq, WINDOW_SIZE // 2)\n",
    "            for i in range(len(seq)):\n",
    "                x = encode_window(padded_seq, i, WINDOW_SIZE)\n",
    "                y = LABELS.get(sst[i], 2)\n",
    "                self.samples.append((x, y))\n",
    "    def __len__(self):\n",
    "        return len(self.samples)\n",
    "\n",
    "    def __getitem__(self, idx):\n",
    "        return self.samples[idx]"
   ]
  },
  {
   "cell_type": "code",
   "execution_count": 52,
   "id": "55a516f4-2ec6-4c13-8fde-c33b30b0996f",
   "metadata": {},
   "outputs": [],
   "source": [
    "class SecondaryStructureMLP(nn.Module):\n",
    "    def __init__(self, input_size, hidden_size=128):\n",
    "        super().__init__()\n",
    "        self.fc1 = nn.Linear(input_size, hidden_size)\n",
    "        self.dropout = nn.Dropout(0.3)  # Added dropout for regularization\n",
    "        self.fc2 = nn.Linear(hidden_size, NUM_CLASSES)\n",
    "\n",
    "    def forward(self, x):\n",
    "        x = F.relu(self.fc1(x))\n",
    "        x = self.dropout(x)  # Apply dropout\n",
    "        return self.fc2(x)"
   ]
  },
  {
   "cell_type": "code",
   "execution_count": 53,
   "id": "08193823-ebaf-4cd0-a6aa-5fd642b2f671",
   "metadata": {},
   "outputs": [],
   "source": [
    "train_dataset = ProteinDataset(train_df)\n",
    "val_dataset = ProteinDataset(val_df)"
   ]
  },
  {
   "cell_type": "code",
   "execution_count": 54,
   "id": "2fe19c05-27a0-4389-aae8-5fe95aef1e25",
   "metadata": {},
   "outputs": [],
   "source": [
    "train_loader = DataLoader(train_dataset, batch_size=BATCH_SIZE, shuffle=True)\n",
    "val_loader = DataLoader(val_dataset, batch_size=BATCH_SIZE, shuffle=False)"
   ]
  },
  {
   "cell_type": "code",
   "execution_count": 55,
   "id": "dab7b93c-12df-4f72-b5e0-4146540c048e",
   "metadata": {},
   "outputs": [],
   "source": [
    "model = SecondaryStructureMLP(WINDOW_SIZE * 20)\n",
    "optimizer = torch.optim.Adam(model.parameters(), lr=0.001)\n",
    "criterion = nn.CrossEntropyLoss()"
   ]
  },
  {
   "cell_type": "code",
   "execution_count": 56,
   "id": "d3ad51c3-5ab3-4737-b2af-a7f8aaa48016",
   "metadata": {},
   "outputs": [],
   "source": [
    "train_losses = []\n",
    "val_losses = []\n",
    "train_accuracies = []\n",
    "val_accuracies = []\n",
    "\n",
    "best_val_loss = float('inf')\n",
    "epochs_no_improve = 0\n",
    "best_model_weights = None\n"
   ]
  },
  {
   "cell_type": "code",
   "execution_count": 59,
   "id": "a23dbc43-d654-4f74-946e-52111c1753b3",
   "metadata": {},
   "outputs": [
    {
     "name": "stdout",
     "output_type": "stream",
     "text": [
      "Epoch 1\n",
      "Train - Loss: 0.7047 | Accuracy: 69.78%\n",
      "Val   - Loss: 0.7786 | Accuracy: 65.87%\n",
      "--------------------------------------------------\n",
      "Epoch 2\n",
      "Train - Loss: 0.6837 | Accuracy: 70.69%\n",
      "Val   - Loss: 0.7843 | Accuracy: 65.82%\n",
      "--------------------------------------------------\n",
      "Epoch 3\n",
      "Train - Loss: 0.6678 | Accuracy: 71.51%\n",
      "Val   - Loss: 0.7943 | Accuracy: 65.42%\n",
      "--------------------------------------------------\n",
      "Epoch 4\n",
      "Train - Loss: 0.6558 | Accuracy: 72.15%\n",
      "Val   - Loss: 0.8015 | Accuracy: 65.30%\n",
      "--------------------------------------------------\n",
      "Early stopping at epoch 4\n"
     ]
    }
   ],
   "source": [
    "PATIENCE = 3  # Number of epochs to wait before stopping if no improvement\n",
    "# Initialize these before your training loop\n",
    "best_val_loss = float('inf')\n",
    "epochs_no_improve = 0\n",
    "best_model_weights = None\n",
    "\n",
    "for epoch in range(EPOCHS):\n",
    "    # Training phase\n",
    "    model.train()\n",
    "    train_total_loss = 0\n",
    "    train_total_correct = 0\n",
    "    train_total_samples = 0\n",
    "    \n",
    "    for X_batch, y_batch in train_loader:\n",
    "        optimizer.zero_grad()\n",
    "        outputs = model(X_batch)\n",
    "        loss = criterion(outputs, y_batch)\n",
    "        loss.backward()\n",
    "        optimizer.step()\n",
    "\n",
    "        train_total_loss += loss.item()\n",
    "        preds = torch.argmax(outputs, dim=1)\n",
    "        train_total_correct += (preds == y_batch).sum().item()\n",
    "        train_total_samples += y_batch.size(0)\n",
    "    \n",
    "    train_epoch_loss = train_total_loss / len(train_loader)\n",
    "    train_epoch_accuracy = 100.0 * train_total_correct / train_total_samples\n",
    "    train_losses.append(train_epoch_loss)\n",
    "    train_accuracies.append(train_epoch_accuracy)\n",
    "\n",
    "    # Validation phase\n",
    "    model.eval()\n",
    "    val_total_loss = 0\n",
    "    val_total_correct = 0\n",
    "    val_total_samples = 0\n",
    "    \n",
    "    with torch.no_grad():\n",
    "        for X_batch, y_batch in val_loader:\n",
    "            outputs = model(X_batch)\n",
    "            loss = criterion(outputs, y_batch)\n",
    "            \n",
    "            val_total_loss += loss.item()\n",
    "            preds = torch.argmax(outputs, dim=1)\n",
    "            val_total_correct += (preds == y_batch).sum().item()\n",
    "            val_total_samples += y_batch.size(0)\n",
    "    \n",
    "    val_epoch_loss = val_total_loss / len(val_loader)\n",
    "    val_epoch_accuracy = 100.0 * val_total_correct / val_total_samples\n",
    "    val_losses.append(val_epoch_loss)\n",
    "    val_accuracies.append(val_epoch_accuracy)\n",
    "\n",
    "    print(f\"Epoch {epoch+1}\")\n",
    "    print(f\"Train - Loss: {train_epoch_loss:.4f} | Accuracy: {train_epoch_accuracy:.2f}%\")\n",
    "    print(f\"Val   - Loss: {val_epoch_loss:.4f} | Accuracy: {val_epoch_accuracy:.2f}%\")\n",
    "    print(\"-\" * 50)\n",
    "\n",
    "    # Early stopping check\n",
    "    if val_epoch_loss < best_val_loss:\n",
    "        best_val_loss = val_epoch_loss\n",
    "        epochs_no_improve = 0\n",
    "        best_model_weights = model.state_dict().copy()\n",
    "    else:\n",
    "        epochs_no_improve += 1\n",
    "        if epochs_no_improve >= PATIENCE:\n",
    "            print(f\"Early stopping at epoch {epoch+1}\")\n",
    "            model.load_state_dict(best_model_weights)\n",
    "            break"
   ]
  },
  {
   "cell_type": "code",
   "execution_count": 60,
   "id": "0c2fc04b-53cc-4928-bb23-cb3dfc93457c",
   "metadata": {},
   "outputs": [
    {
     "data": {
      "image/png": "[encoded data removed]",
      "text/plain": [
       "<Figure size 1200x500 with 2 Axes>"
      ]
     },
     "metadata": {},
     "output_type": "display_data"
    }
   ],
   "source": [
    "plt.figure(figsize=(12,5))\n",
    "\n",
    "plt.subplot(1,2,1)\n",
    "plt.plot(range(1, len(train_losses)+1), train_losses, label='Train', marker='o')\n",
    "plt.plot(range(1, len(val_losses)+1), val_losses, label='Validation', marker='o')\n",
    "plt.title(\"Training and Validation Loss\")\n",
    "plt.xlabel(\"Epoch\")\n",
    "plt.ylabel(\"Loss\")\n",
    "plt.legend()\n",
    "\n",
    "plt.subplot(1,2,2)\n",
    "plt.plot(range(1, len(train_accuracies)+1), train_accuracies, label='Train', marker='o')\n",
    "plt.plot(range(1, len(val_accuracies)+1), val_accuracies, label='Validation', marker='o')\n",
    "plt.title(\"Training and Validation Accuracy\")\n",
    "plt.xlabel(\"Epoch\")\n",
    "plt.ylabel(\"Accuracy (%)\")\n",
    "plt.legend()\n",
    "\n",
    "plt.tight_layout()\n",
    "plt.show()"
   ]
  },
  {
   "cell_type": "code",
   "execution_count": 61,
   "id": "0fcbe4bc-c895-4667-b639-05d60a90e9d2",
   "metadata": {},
   "outputs": [
    {
     "name": "stdout",
     "output_type": "stream",
     "text": [
      "\n",
      "Final Metrics:\n",
      "Best Validation Loss: 0.7786\n",
      "Best Validation Accuracy: 66.19%\n"
     ]
    }
   ],
   "source": [
    "print(\"\\nFinal Metrics:\")\n",
    "print(f\"Best Validation Loss: {best_val_loss:.4f}\")\n",
    "print(f\"Best Validation Accuracy: {max(val_accuracies):.2f}%\")"
   ]
  },
  {
   "cell_type": "code",
   "execution_count": 66,
   "id": "f03c986d-6c84-450d-aacb-714f72922952",
   "metadata": {},
   "outputs": [
    {
     "name": "stdout",
     "output_type": "stream",
     "text": [
      "\n",
      "Test Accuracy: 64.46%\n",
      "\n",
      "Classification Report:\n",
      "              precision    recall  f1-score   support\n",
      "\n",
      "   Helix (H)       0.66      0.68      0.67     49182\n",
      "  Strand (E)       0.57      0.45      0.51     31970\n",
      "    Coil (C)       0.66      0.71      0.68     63208\n",
      "\n",
      "    accuracy                           0.64    144360\n",
      "   macro avg       0.63      0.62      0.62    144360\n",
      "weighted avg       0.64      0.64      0.64    144360\n",
      "\n",
      "\n",
      "Confusion Matrix:\n",
      "[[33541  3838 11803]\n",
      " [ 5953 14519 11498]\n",
      " [11152  7059 44997]]\n"
     ]
    }
   ],
   "source": [
    "# ===== ADD THIS TEST EVALUATION CODE AFTER YOUR EXISTING CODE =====\n",
    "\n",
    "# 1. Load test data (assuming same format as training data)\n",
    "test_df = pd.read_csv('testing_data.csv')  # Replace with your test file path\n",
    "\n",
    "# 2. Create test dataset and loader (using your existing ProteinDataset class)\n",
    "test_dataset = ProteinDataset(test_df)\n",
    "test_loader = DataLoader(test_dataset, batch_size=BATCH_SIZE, shuffle=False)\n",
    "\n",
    "# 3. Evaluate on test set\n",
    "model.eval()  # Set model to evaluation mode\n",
    "test_correct = 0\n",
    "test_total = 0\n",
    "all_preds = []\n",
    "all_true = []\n",
    "\n",
    "with torch.no_grad():\n",
    "    for X_batch, y_batch in test_loader:\n",
    "        outputs = model(X_batch)\n",
    "        _, preds = torch.max(outputs, 1)\n",
    "        test_total += y_batch.size(0)\n",
    "        test_correct += (preds == y_batch).sum().item()\n",
    "        \n",
    "        # For additional metrics\n",
    "        all_preds.extend(preds.cpu().numpy())\n",
    "        all_true.extend(y_batch.cpu().numpy())\n",
    "\n",
    "# 4. Calculate and display test accuracy\n",
    "test_accuracy = 100.0 * test_correct / test_total\n",
    "print(f\"\\nTest Accuracy: {test_accuracy:.2f}%\")\n",
    "\n",
    "# (Optional) Detailed classification report\n",
    "from sklearn.metrics import classification_report, confusion_matrix\n",
    "\n",
    "print(\"\\nClassification Report:\")\n",
    "print(classification_report(all_true, all_preds, \n",
    "                          target_names=['Helix (H)', 'Strand (E)', 'Coil (C)']))\n",
    "\n",
    "print(\"\\nConfusion Matrix:\")\n",
    "print(confusion_matrix(all_true, all_preds))"
   ]
  },
  {
   "cell_type": "code",
   "execution_count": null,
   "id": "e4629215-ba6d-4520-a50d-cf841923d788",
   "metadata": {},
   "outputs": [],
   "source": []
  },
  {
   "cell_type": "code",
   "execution_count": null,
   "id": "6f29c6d9-3e15-4f37-bda2-4baea10702e6",
   "metadata": {},
   "outputs": [],
   "source": []
  }
 ],
 "metadata": {
  "kernelspec": {
   "display_name": "Python 3 (ipykernel)",
   "language": "python",
   "name": "python3"
  },
  "language_info": {
   "codemirror_mode": {
    "name": "ipython",
    "version": 3
   },
   "file_extension": ".py",
   "mimetype": "text/x-python",
   "name": "python",
   "nbconvert_exporter": "python",
   "pygments_lexer": "ipython3",
   "version": "3.13.3"
  }
 },
 "nbformat": 4,
 "nbformat_minor": 5
}
